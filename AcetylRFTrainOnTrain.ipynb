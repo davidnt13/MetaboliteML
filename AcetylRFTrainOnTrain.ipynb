{
  "cells": [
    {
      "cell_type": "markdown",
      "metadata": {
        "id": "view-in-github",
        "colab_type": "text"
      },
      "source": [
        "<a href=\"https://colab.research.google.com/github/davidnt13/MetaboliteML/blob/master/AcetylRFTrainOnTrain.ipynb\" target=\"_parent\"><img src=\"https://colab.research.google.com/assets/colab-badge.svg\" alt=\"Open In Colab\"/></a>"
      ]
    },
    {
      "cell_type": "code",
      "source": [
        "from google.colab import drive\n",
        "drive.mount('/content/drive')"
      ],
      "metadata": {
        "colab": {
          "base_uri": "https://localhost:8080/"
        },
        "id": "sQWsoKJlZEsP",
        "outputId": "aec35f9d-9637-4c65-ff1e-d0cf132c722f"
      },
      "id": "sQWsoKJlZEsP",
      "execution_count": 1,
      "outputs": [
        {
          "output_type": "stream",
          "name": "stdout",
          "text": [
            "Mounted at /content/drive\n"
          ]
        }
      ]
    },
    {
      "cell_type": "code",
      "execution_count": 2,
      "id": "1c7627a8-2adf-4092-90b7-e9dfe79e69b7",
      "metadata": {
        "colab": {
          "base_uri": "https://localhost:8080/"
        },
        "id": "1c7627a8-2adf-4092-90b7-e9dfe79e69b7",
        "outputId": "a2928c78-321e-438b-a3f9-ae2c91bd1ea9"
      },
      "outputs": [
        {
          "output_type": "stream",
          "name": "stdout",
          "text": [
            "Collecting rdkit\n",
            "  Downloading rdkit-2023.9.6-cp310-cp310-manylinux_2_17_x86_64.manylinux2014_x86_64.whl (34.9 MB)\n",
            "\u001b[2K     \u001b[90m━━━━━━━━━━━━━━━━━━━━━━━━━━━━━━━━━━━━━━━━\u001b[0m \u001b[32m34.9/34.9 MB\u001b[0m \u001b[31m26.1 MB/s\u001b[0m eta \u001b[36m0:00:00\u001b[0m\n",
            "\u001b[?25hRequirement already satisfied: numpy in /usr/local/lib/python3.10/dist-packages (from rdkit) (1.25.2)\n",
            "Requirement already satisfied: Pillow in /usr/local/lib/python3.10/dist-packages (from rdkit) (9.4.0)\n",
            "Installing collected packages: rdkit\n",
            "Successfully installed rdkit-2023.9.6\n"
          ]
        }
      ],
      "source": [
        "!pip install rdkit"
      ]
    },
    {
      "cell_type": "code",
      "execution_count": 3,
      "id": "6d347b97-4ebb-41a5-9fb2-ec39146a0267",
      "metadata": {
        "id": "6d347b97-4ebb-41a5-9fb2-ec39146a0267"
      },
      "outputs": [],
      "source": [
        "import pandas as pd #data manipulation\n",
        "from rdkit import Chem #Chemistry\n",
        "from rdkit.Chem import Descriptors\n",
        "import numpy as np #matrix algebra\n",
        "from sklearn.model_selection import train_test_split #ML trainining\n",
        "from sklearn.metrics import r2_score, mean_squared_error #ML stats\n",
        "import seaborn as sns #Plotting\n",
        "import matplotlib.pyplot as plt"
      ]
    },
    {
      "cell_type": "code",
      "execution_count": 4,
      "id": "43ac0c44-fcbf-4cfd-bfe5-0638c842f15f",
      "metadata": {
        "id": "43ac0c44-fcbf-4cfd-bfe5-0638c842f15f"
      },
      "outputs": [],
      "source": [
        "dfTrain = pd.read_csv(\"/content/drive/MyDrive/Colab Notebooks/Reker Lab ML/Acetylcholinesterase ML Work/training_data.csv\")\n",
        "dfTest = pd.read_csv(\"/content/drive/MyDrive/Colab Notebooks/Reker Lab ML/Acetylcholinesterase ML Work/test_data.csv\")"
      ]
    },
    {
      "cell_type": "code",
      "execution_count": 5,
      "id": "01d16971-8cc1-4cea-9f19-fcac5dddf4d7",
      "metadata": {
        "id": "01d16971-8cc1-4cea-9f19-fcac5dddf4d7"
      },
      "outputs": [],
      "source": [
        "smiles_stringsTrain = dfTrain['SMILES'].tolist()\n",
        "smiles_stringsTest = dfTest['SMILES'].tolist()"
      ]
    },
    {
      "cell_type": "code",
      "execution_count": 6,
      "id": "ce58c5bb-e92a-41f8-a293-a774ca36836d",
      "metadata": {
        "id": "ce58c5bb-e92a-41f8-a293-a774ca36836d"
      },
      "outputs": [],
      "source": [
        "smilesTrain = [Chem.MolFromSmiles(mol) for mol in smiles_stringsTrain]\n",
        "smilesTest = [Chem.MolFromSmiles(mol) for mol in smiles_stringsTest]"
      ]
    },
    {
      "cell_type": "code",
      "execution_count": 7,
      "id": "59eafebb-2fec-4a12-a0f7-3cffb4eb1398",
      "metadata": {
        "id": "59eafebb-2fec-4a12-a0f7-3cffb4eb1398"
      },
      "outputs": [],
      "source": [
        "descrsTrain = [Descriptors.CalcMolDescriptors(mol) for mol in smilesTrain]\n",
        "descrsTest = [Descriptors.CalcMolDescriptors(mol) for mol in smilesTest]\n",
        "df2Train = pd.DataFrame(descrsTrain)\n",
        "df2Test = pd.DataFrame(descrsTest)"
      ]
    },
    {
      "cell_type": "code",
      "execution_count": 12,
      "id": "34280ecb-f4d0-4dbb-9a79-8b94bf6e6c70",
      "metadata": {
        "id": "34280ecb-f4d0-4dbb-9a79-8b94bf6e6c70"
      },
      "outputs": [],
      "source": [
        "train_X = df2Train.dropna(axis = 1)\n",
        "train_y = dfTrain.pIC50\n",
        "test_X = df2Test.dropna(axis = 1)\n",
        "test_y = dfTest.pIC50\n",
        "\n",
        "common_columns = train_X.columns.intersection(test_X.columns)\n",
        "train_X = train_X[common_columns]\n",
        "test_X = test_X[common_columns]"
      ]
    },
    {
      "cell_type": "code",
      "execution_count": 13,
      "id": "cacd827b-7b68-452a-a36b-3d456419f801",
      "metadata": {
        "id": "cacd827b-7b68-452a-a36b-3d456419f801"
      },
      "outputs": [],
      "source": [
        "from sklearn.model_selection import ShuffleSplit\n",
        "from sklearn.preprocessing import StandardScaler\n",
        "from sklearn.ensemble import RandomForestRegressor\n",
        "from sklearn.model_selection import RandomizedSearchCV"
      ]
    },
    {
      "cell_type": "code",
      "execution_count": 14,
      "id": "4f0067b4-648e-4225-9edf-b172d7185d8b",
      "metadata": {
        "colab": {
          "base_uri": "https://localhost:8080/"
        },
        "id": "4f0067b4-648e-4225-9edf-b172d7185d8b",
        "outputId": "0e41aed1-5526-4268-cb08-d4e9063f1e9e"
      },
      "outputs": [
        {
          "output_type": "stream",
          "name": "stdout",
          "text": [
            "Cross Validation Scores:  [0.66105474 0.61460166 0.57557775 0.61050606 0.66356625 0.63573463\n",
            " 0.63561672 0.57680211 0.52461777 0.60798183]\n",
            "Average CV Score:  0.6106059521962858\n",
            "Number of CV Scores used in Average:  10\n"
          ]
        }
      ],
      "source": [
        "regressor = RandomForestRegressor(n_estimators=10, random_state=1)\n",
        "\n",
        "from sklearn.model_selection import KFold, cross_val_score\n",
        "\n",
        "k_folds = KFold(n_splits = 10, shuffle = True, random_state = 1)\n",
        "\n",
        "scores = cross_val_score(regressor, train_X, train_y, cv = k_folds)\n",
        "\n",
        "print(\"Cross Validation Scores: \", scores)\n",
        "print(\"Average CV Score: \", scores.mean())\n",
        "print(\"Number of CV Scores used in Average: \", len(scores))"
      ]
    },
    {
      "cell_type": "code",
      "execution_count": null,
      "id": "509cb118-56a6-4f59-a921-4ebb4fe29ca4",
      "metadata": {
        "id": "509cb118-56a6-4f59-a921-4ebb4fe29ca4"
      },
      "outputs": [],
      "source": [
        "from sklearn.model_selection import ShuffleSplit\n",
        "from sklearn.preprocessing import StandardScaler\n",
        "from sklearn.ensemble import RandomForestRegressor\n",
        "from sklearn.model_selection import RandomizedSearchCV\n",
        "from sklearn.metrics import r2_score, mean_squared_error\n",
        "\n",
        "import numpy as np\n",
        "import pandas as pd\n",
        "\n",
        "# Number of MC CV cycles\n",
        "mc_cv = 20\n",
        "\n",
        "# Number of CV folds for hyperparameter tuning:\n",
        "hyper_cv = 10\n",
        "\n",
        "# Fraction of data to use as test set:\n",
        "test_frac = 0.3\n",
        "\n",
        "# Name of file to write all predictions to:\n",
        "predictions_filename = 'RFSwap_predictions.csv'\n",
        "\n",
        "# Variables to save model performance statistics:\n",
        "r2_sum = 0\n",
        "rmsd_sum = 0\n",
        "bias_sum = 0\n",
        "sdep_sum = 0\n",
        "\n",
        "# List to save individual predictions from the models trained from\n",
        "# each train/test split:\n",
        "all_preds = np.empty((mc_cv, len(test_y)), dtype=float)\n",
        "all_preds[:] = np.nan\n",
        "\n",
        "# Initialise train test split:\n",
        "#train_test_split = ShuffleSplit(mc_cv, test_size=test_frac)\n",
        "train_test_split = kFold(mc_cv, test_size=test_frac)\n",
        "\n",
        "# Monte Carlo CV:\n",
        "for n, [train_idx, test_idx] in enumerate(train_test_split.split(test_X)):\n",
        "\n",
        "    # Separate data into training and test sets:\n",
        "    # Have to use \".iloc\" if x and y are pandas DataFrames and Series objects,\n",
        "    # if they are just numpy arrays remove \".iloc\".\n",
        "    x_train = train_X.iloc[train_idx]\n",
        "    x_test = train_X.iloc[test_idx]\n",
        "    y_train = train_y.iloc[train_idx]\n",
        "    y_test = train_y.iloc[test_idx]\n",
        "\n",
        "    # Centre and scale all x features to have mean=0 and var=1:\n",
        "    # (Not required for random forest, but important for some other ML methods)\n",
        "    scaler = StandardScaler()\n",
        "    x_train = scaler.fit_transform(x_train)\n",
        "    x_test = scaler.transform(x_test)\n",
        "\n",
        "    rf = RandomForestRegressor()\n",
        "\n",
        "    # Train RF model:\n",
        "    rf.fit(x_train, y_train)\n",
        "\n",
        "    # Use trained RF model to predict y data for the test set:\n",
        "    y_pred = rf.predict(x_test)\n",
        "\n",
        "    # Assess performace of model based on predictions:\n",
        "\n",
        "    # Coefficient of determination\n",
        "    r2 = r2_score(y_test, y_pred)\n",
        "    # Root mean squared error\n",
        "    rmsd = mean_squared_error(y_test, y_pred)**0.5\n",
        "    # Bias\n",
        "    bias = np.mean(y_pred - y_test)\n",
        "    # Standard deviation of the error of prediction\n",
        "    sdep = np.mean(((y_pred - y_test) - np.mean(y_pred - y_test))**2)**0.5\n",
        "\n",
        "    # Save running sum of results:\n",
        "    r2_sum += r2\n",
        "    rmsd_sum += rmsd\n",
        "    bias_sum += bias\n",
        "    sdep_sum += sdep\n",
        "\n",
        "    # Save individual predictions:\n",
        "    all_preds[n,test_idx] = y_pred\n",
        "\n",
        "# Average results over resamples:\n",
        "r2_av = r2_sum/mc_cv\n",
        "rmsd_av = rmsd_sum/mc_cv\n",
        "bias_av = bias_sum/mc_cv\n",
        "sdep_av = sdep_sum/mc_cv\n"
      ]
    },
    {
      "cell_type": "code",
      "source": [
        "# Name of file to write results to:\n",
        "results_filename = 'RFSwap_results.txt'\n",
        "\n",
        "# Write average results to a file:\n",
        "results_file = open(results_filename, 'w')\n",
        "results_file.write('r2: {:.3f}\\n'.format(r2_av))\n",
        "results_file.write('rmsd: {:.3f}\\n'.format(rmsd_av))\n",
        "results_file.write('bias: {:.3f}\\n'.format(bias_av))\n",
        "results_file.write('sdep: {:.3f}\\n'.format(sdep_av))\n",
        "results_file.close()\n",
        "\n",
        "# Save all individual predictions to file:\n",
        "predictions_file = open(predictions_filename, 'w')\n",
        "# Write header:\n",
        "predictions_file.write(','.join([str(i) for i in train_y.index]) + '\\n')\n",
        "# Write individual predictions from each MC CV cycle:\n",
        "for n in range(mc_cv):\n",
        "    predictions_file.write(','.join([str(p) if not np.isnan(p) else '' for p in all_preds[n]]) + '\\n')\n",
        "predictions_file.close()"
      ],
      "metadata": {
        "id": "aJoiSq95DUs1"
      },
      "id": "aJoiSq95DUs1",
      "execution_count": null,
      "outputs": []
    },
    {
      "cell_type": "code",
      "source": [
        "y_pred = rf.predict(df2Test[train_X.columns])\n",
        "# Coefficient of determination\n",
        "r2 = r2_score(test_y, y_pred)\n",
        "# Root mean squared error\n",
        "rmsd = mean_squared_error(test_y, y_pred)**0.5\n",
        "# Bias\n",
        "bias = np.mean(y_pred - test_y)\n",
        "# Standard deviation of the error of prediction\n",
        "sdep = np.mean(((y_pred - test_y) - np.mean(y_pred - test_y))**2)**0.5\n",
        "\n",
        "print(r2)\n",
        "print(rmsd)\n",
        "print(bias)\n",
        "print(sdep)\n",
        "plt.scatter(test_y, y_pred)\n",
        "a, b = np.polyfit(test_y, y_pred, 1)\n",
        "plt.plot(test_y, a*test_y+b)\n",
        "plt.xlabel(\"Experimental pIC50\")\n",
        "plt.ylabel(\"Predicted pIC50\")\n",
        "plt.show()"
      ],
      "metadata": {
        "colab": {
          "base_uri": "https://localhost:8080/",
          "height": 579
        },
        "id": "WopHA-49K6R_",
        "outputId": "a060a848-e1cb-49ce-b998-6a1cbf040aa1"
      },
      "id": "WopHA-49K6R_",
      "execution_count": null,
      "outputs": [
        {
          "output_type": "stream",
          "name": "stderr",
          "text": [
            "/usr/local/lib/python3.10/dist-packages/sklearn/base.py:432: UserWarning: X has feature names, but RandomForestRegressor was fitted without feature names\n",
            "  warnings.warn(\n"
          ]
        },
        {
          "output_type": "stream",
          "name": "stdout",
          "text": [
            "-0.4403693492336751\n",
            "1.4068049575004231\n",
            "0.7346278535353523\n",
            "1.1997591863610833\n"
          ]
        },
        {
          "output_type": "display_data",
          "data": {
            "text/plain": [
              "<Figure size 640x480 with 1 Axes>"
            ],
            "image/png": "[encoded data removed]"
          },
          "metadata": {}
        }
      ]
    },
    {
      "cell_type": "code",
      "source": [
        "print(a)"
      ],
      "metadata": {
        "colab": {
          "base_uri": "https://localhost:8080/"
        },
        "id": "IhTVlcPiYKAD",
        "outputId": "6b5b557b-bba2-4496-9804-1374c871908f"
      },
      "id": "IhTVlcPiYKAD",
      "execution_count": null,
      "outputs": [
        {
          "output_type": "stream",
          "name": "stdout",
          "text": [
            "-0.002974949100784301\n"
          ]
        }
      ]
    },
    {
      "cell_type": "code",
      "source": [
        "rf = RandomForestRegressor()\n",
        "rf.fit(df2Train[train_X.columns], train_y)"
      ],
      "metadata": {
        "colab": {
          "base_uri": "https://localhost:8080/",
          "height": 75
        },
        "id": "MLOtEWwBOFVk",
        "outputId": "0653c1fe-9624-4e9d-91e8-e9954bf29b03"
      },
      "id": "MLOtEWwBOFVk",
      "execution_count": null,
      "outputs": [
        {
          "output_type": "execute_result",
          "data": {
            "text/plain": [
              "RandomForestRegressor()"
            ],
            "text/html": [
              "<style>#sk-container-id-2 {color: black;background-color: white;}#sk-container-id-2 pre{padding: 0;}#sk-container-id-2 div.sk-toggleable {background-color: white;}#sk-container-id-2 label.sk-toggleable__label {cursor: pointer;display: block;width: 100%;margin-bottom: 0;padding: 0.3em;box-sizing: border-box;text-align: center;}#sk-container-id-2 label.sk-toggleable__label-arrow:before {content: \"▸\";float: left;margin-right: 0.25em;color: #696969;}#sk-container-id-2 label.sk-toggleable__label-arrow:hover:before {color: black;}#sk-container-id-2 div.sk-estimator:hover label.sk-toggleable__label-arrow:before {color: black;}#sk-container-id-2 div.sk-toggleable__content {max-height: 0;max-width: 0;overflow: hidden;text-align: left;background-color: #f0f8ff;}#sk-container-id-2 div.sk-toggleable__content pre {margin: 0.2em;color: black;border-radius: 0.25em;background-color: #f0f8ff;}#sk-container-id-2 input.sk-toggleable__control:checked~div.sk-toggleable__content {max-height: 200px;max-width: 100%;overflow: auto;}#sk-container-id-2 input.sk-toggleable__control:checked~label.sk-toggleable__label-arrow:before {content: \"▾\";}#sk-container-id-2 div.sk-estimator input.sk-toggleable__control:checked~label.sk-toggleable__label {background-color: #d4ebff;}#sk-container-id-2 div.sk-label input.sk-toggleable__control:checked~label.sk-toggleable__label {background-color: #d4ebff;}#sk-container-id-2 input.sk-hidden--visually {border: 0;clip: rect(1px 1px 1px 1px);clip: rect(1px, 1px, 1px, 1px);height: 1px;margin: -1px;overflow: hidden;padding: 0;position: absolute;width: 1px;}#sk-container-id-2 div.sk-estimator {font-family: monospace;background-color: #f0f8ff;border: 1px dotted black;border-radius: 0.25em;box-sizing: border-box;margin-bottom: 0.5em;}#sk-container-id-2 div.sk-estimator:hover {background-color: #d4ebff;}#sk-container-id-2 div.sk-parallel-item::after {content: \"\";width: 100%;border-bottom: 1px solid gray;flex-grow: 1;}#sk-container-id-2 div.sk-label:hover label.sk-toggleable__label {background-color: #d4ebff;}#sk-container-id-2 div.sk-serial::before {content: \"\";position: absolute;border-left: 1px solid gray;box-sizing: border-box;top: 0;bottom: 0;left: 50%;z-index: 0;}#sk-container-id-2 div.sk-serial {display: flex;flex-direction: column;align-items: center;background-color: white;padding-right: 0.2em;padding-left: 0.2em;position: relative;}#sk-container-id-2 div.sk-item {position: relative;z-index: 1;}#sk-container-id-2 div.sk-parallel {display: flex;align-items: stretch;justify-content: center;background-color: white;position: relative;}#sk-container-id-2 div.sk-item::before, #sk-container-id-2 div.sk-parallel-item::before {content: \"\";position: absolute;border-left: 1px solid gray;box-sizing: border-box;top: 0;bottom: 0;left: 50%;z-index: -1;}#sk-container-id-2 div.sk-parallel-item {display: flex;flex-direction: column;z-index: 1;position: relative;background-color: white;}#sk-container-id-2 div.sk-parallel-item:first-child::after {align-self: flex-end;width: 50%;}#sk-container-id-2 div.sk-parallel-item:last-child::after {align-self: flex-start;width: 50%;}#sk-container-id-2 div.sk-parallel-item:only-child::after {width: 0;}#sk-container-id-2 div.sk-dashed-wrapped {border: 1px dashed gray;margin: 0 0.4em 0.5em 0.4em;box-sizing: border-box;padding-bottom: 0.4em;background-color: white;}#sk-container-id-2 div.sk-label label {font-family: monospace;font-weight: bold;display: inline-block;line-height: 1.2em;}#sk-container-id-2 div.sk-label-container {text-align: center;}#sk-container-id-2 div.sk-container {/* jupyter's `normalize.less` sets `[hidden] { display: none; }` but bootstrap.min.css set `[hidden] { display: none !important; }` so we also need the `!important` here to be able to override the default hidden behavior on the sphinx rendered scikit-learn.org. See: https://github.com/scikit-learn/scikit-learn/issues/21755 */display: inline-block !important;position: relative;}#sk-container-id-2 div.sk-text-repr-fallback {display: none;}</style><div id=\"sk-container-id-2\" class=\"sk-top-container\"><div class=\"sk-text-repr-fallback\"><pre>RandomForestRegressor()</pre><b>In a Jupyter environment, please rerun this cell to show the HTML representation or trust the notebook. <br />On GitHub, the HTML representation is unable to render, please try loading this page with nbviewer.org.</b></div><div class=\"sk-container\" hidden><div class=\"sk-item\"><div class=\"sk-estimator sk-toggleable\"><input class=\"sk-toggleable__control sk-hidden--visually\" id=\"sk-estimator-id-2\" type=\"checkbox\" checked><label for=\"sk-estimator-id-2\" class=\"sk-toggleable__label sk-toggleable__label-arrow\">RandomForestRegressor</label><div class=\"sk-toggleable__content\"><pre>RandomForestRegressor()</pre></div></div></div></div></div>"
            ]
          },
          "metadata": {},
          "execution_count": 23
        }
      ]
    },
    {
      "cell_type": "code",
      "source": [
        "y_pred = rf.predict(df2Test[train_X.columns])\n",
        "# Coefficient of determination\n",
        "r2 = r2_score(test_y, y_pred)\n",
        "# Root mean squared error\n",
        "rmsd = mean_squared_error(test_y, y_pred)**0.5\n",
        "# Bias\n",
        "bias = np.mean(y_pred - test_y)\n",
        "# Standard deviation of the error of prediction\n",
        "sdep = np.mean(((y_pred - test_y) - np.mean(y_pred - test_y))**2)**0.5\n",
        "\n",
        "print(r2)\n",
        "print(rmsd)\n",
        "print(bias)\n",
        "print(sdep)\n",
        "plt.scatter(test_y, y_pred)\n",
        "a, b = np.polyfit(test_y, y_pred, 1)\n",
        "plt.plot(test_y, a*test_y+b)\n",
        "plt.xlabel(\"Experimental pIC50\")\n",
        "plt.ylabel(\"Predicted pIC50\")\n",
        "plt.show()"
      ],
      "metadata": {
        "colab": {
          "base_uri": "https://localhost:8080/",
          "height": 522
        },
        "id": "ScyP3J3fONlp",
        "outputId": "74b9a27f-19a9-4065-9968-9d6a01c6003e"
      },
      "id": "ScyP3J3fONlp",
      "execution_count": null,
      "outputs": [
        {
          "output_type": "stream",
          "name": "stdout",
          "text": [
            "0.1105108817418674\n",
            "1.1055217065840872\n",
            "0.11116190115440121\n",
            "1.099918758572801\n"
          ]
        },
        {
          "output_type": "display_data",
          "data": {
            "text/plain": [
              "<Figure size 640x480 with 1 Axes>"
            ],
            "image/png": "[encoded data removed]"
          },
          "metadata": {}
        }
      ]
    },
    {
      "cell_type": "code",
      "source": [
        "print(a)"
      ],
      "metadata": {
        "id": "3qUEp88_PdXp",
        "outputId": "d8c86958-f47c-422d-cf39-9f3e21712685",
        "colab": {
          "base_uri": "https://localhost:8080/"
        }
      },
      "id": "3qUEp88_PdXp",
      "execution_count": null,
      "outputs": [
        {
          "output_type": "stream",
          "name": "stdout",
          "text": [
            "0.10940426056217814\n"
          ]
        }
      ]
    },
    {
      "cell_type": "code",
      "source": [
        "initPredict = pd.read_csv(\"RF_predictions(1).csv\")\n",
        "initPredict = initPredict.transpose()\n",
        "avg = initPredict.mean(skipna=True)\n",
        "print(avg)"
      ],
      "metadata": {
        "colab": {
          "base_uri": "https://localhost:8080/"
        },
        "id": "R4Z9KDr7UXla",
        "outputId": "46e309a7-a04e-4c9f-9d4a-90bff251eb01"
      },
      "id": "R4Z9KDr7UXla",
      "execution_count": null,
      "outputs": [
        {
          "output_type": "stream",
          "name": "stdout",
          "text": [
            "0     6.159999\n",
            "1     6.150591\n",
            "2     6.191134\n",
            "3     6.143118\n",
            "4     6.173409\n",
            "5     6.154277\n",
            "6     6.181245\n",
            "7     6.140624\n",
            "8     6.183487\n",
            "9     6.206242\n",
            "10    6.157609\n",
            "11    6.168836\n",
            "12    6.191084\n",
            "13    6.162066\n",
            "14    6.169873\n",
            "15    6.182678\n",
            "16    6.155734\n",
            "17    6.141014\n",
            "18    6.168479\n",
            "19    6.165481\n",
            "dtype: float64\n"
          ]
        }
      ]
    },
    {
      "cell_type": "code",
      "source": [
        "plt.scatter(train_y, avg)"
      ],
      "metadata": {
        "colab": {
          "base_uri": "https://localhost:8080/",
          "height": 736
        },
        "id": "Rvh825s1VF1v",
        "outputId": "d9e90509-74bd-4789-9057-e64a0c2416a2"
      },
      "id": "Rvh825s1VF1v",
      "execution_count": null,
      "outputs": [
        {
          "output_type": "error",
          "ename": "ValueError",
          "evalue": "x and y must be the same size",
          "traceback": [
            "\u001b[0;31m---------------------------------------------------------------------------\u001b[0m",
            "\u001b[0;31mValueError\u001b[0m                                Traceback (most recent call last)",
            "\u001b[0;32m<ipython-input-22-c68eb2ec87a9>\u001b[0m in \u001b[0;36m<cell line: 1>\u001b[0;34m()\u001b[0m\n\u001b[0;32m----> 1\u001b[0;31m \u001b[0mplt\u001b[0m\u001b[0;34m.\u001b[0m\u001b[0mscatter\u001b[0m\u001b[0;34m(\u001b[0m\u001b[0mtrain_y\u001b[0m\u001b[0;34m,\u001b[0m \u001b[0mavg\u001b[0m\u001b[0;34m)\u001b[0m\u001b[0;34m\u001b[0m\u001b[0;34m\u001b[0m\u001b[0m\n\u001b[0m",
            "\u001b[0;32m/usr/local/lib/python3.10/dist-packages/matplotlib/pyplot.py\u001b[0m in \u001b[0;36mscatter\u001b[0;34m(x, y, s, c, marker, cmap, norm, vmin, vmax, alpha, linewidths, edgecolors, plotnonfinite, data, **kwargs)\u001b[0m\n\u001b[1;32m   2860\u001b[0m         \u001b[0mvmin\u001b[0m\u001b[0;34m=\u001b[0m\u001b[0;32mNone\u001b[0m\u001b[0;34m,\u001b[0m \u001b[0mvmax\u001b[0m\u001b[0;34m=\u001b[0m\u001b[0;32mNone\u001b[0m\u001b[0;34m,\u001b[0m \u001b[0malpha\u001b[0m\u001b[0;34m=\u001b[0m\u001b[0;32mNone\u001b[0m\u001b[0;34m,\u001b[0m \u001b[0mlinewidths\u001b[0m\u001b[0;34m=\u001b[0m\u001b[0;32mNone\u001b[0m\u001b[0;34m,\u001b[0m \u001b[0;34m*\u001b[0m\u001b[0;34m,\u001b[0m\u001b[0;34m\u001b[0m\u001b[0;34m\u001b[0m\u001b[0m\n\u001b[1;32m   2861\u001b[0m         edgecolors=None, plotnonfinite=False, data=None, **kwargs):\n\u001b[0;32m-> 2862\u001b[0;31m     __ret = gca().scatter(\n\u001b[0m\u001b[1;32m   2863\u001b[0m         \u001b[0mx\u001b[0m\u001b[0;34m,\u001b[0m \u001b[0my\u001b[0m\u001b[0;34m,\u001b[0m \u001b[0ms\u001b[0m\u001b[0;34m=\u001b[0m\u001b[0ms\u001b[0m\u001b[0;34m,\u001b[0m \u001b[0mc\u001b[0m\u001b[0;34m=\u001b[0m\u001b[0mc\u001b[0m\u001b[0;34m,\u001b[0m \u001b[0mmarker\u001b[0m\u001b[0;34m=\u001b[0m\u001b[0mmarker\u001b[0m\u001b[0;34m,\u001b[0m \u001b[0mcmap\u001b[0m\u001b[0;34m=\u001b[0m\u001b[0mcmap\u001b[0m\u001b[0;34m,\u001b[0m \u001b[0mnorm\u001b[0m\u001b[0;34m=\u001b[0m\u001b[0mnorm\u001b[0m\u001b[0;34m,\u001b[0m\u001b[0;34m\u001b[0m\u001b[0;34m\u001b[0m\u001b[0m\n\u001b[1;32m   2864\u001b[0m         \u001b[0mvmin\u001b[0m\u001b[0;34m=\u001b[0m\u001b[0mvmin\u001b[0m\u001b[0;34m,\u001b[0m \u001b[0mvmax\u001b[0m\u001b[0;34m=\u001b[0m\u001b[0mvmax\u001b[0m\u001b[0;34m,\u001b[0m \u001b[0malpha\u001b[0m\u001b[0;34m=\u001b[0m\u001b[0malpha\u001b[0m\u001b[0;34m,\u001b[0m \u001b[0mlinewidths\u001b[0m\u001b[0;34m=\u001b[0m\u001b[0mlinewidths\u001b[0m\u001b[0;34m,\u001b[0m\u001b[0;34m\u001b[0m\u001b[0;34m\u001b[0m\u001b[0m\n",
            "\u001b[0;32m/usr/local/lib/python3.10/dist-packages/matplotlib/__init__.py\u001b[0m in \u001b[0;36minner\u001b[0;34m(ax, data, *args, **kwargs)\u001b[0m\n\u001b[1;32m   1440\u001b[0m     \u001b[0;32mdef\u001b[0m \u001b[0minner\u001b[0m\u001b[0;34m(\u001b[0m\u001b[0max\u001b[0m\u001b[0;34m,\u001b[0m \u001b[0;34m*\u001b[0m\u001b[0margs\u001b[0m\u001b[0;34m,\u001b[0m \u001b[0mdata\u001b[0m\u001b[0;34m=\u001b[0m\u001b[0;32mNone\u001b[0m\u001b[0;34m,\u001b[0m \u001b[0;34m**\u001b[0m\u001b[0mkwargs\u001b[0m\u001b[0;34m)\u001b[0m\u001b[0;34m:\u001b[0m\u001b[0;34m\u001b[0m\u001b[0;34m\u001b[0m\u001b[0m\n\u001b[1;32m   1441\u001b[0m         \u001b[0;32mif\u001b[0m \u001b[0mdata\u001b[0m \u001b[0;32mis\u001b[0m \u001b[0;32mNone\u001b[0m\u001b[0;34m:\u001b[0m\u001b[0;34m\u001b[0m\u001b[0;34m\u001b[0m\u001b[0m\n\u001b[0;32m-> 1442\u001b[0;31m             \u001b[0;32mreturn\u001b[0m \u001b[0mfunc\u001b[0m\u001b[0;34m(\u001b[0m\u001b[0max\u001b[0m\u001b[0;34m,\u001b[0m \u001b[0;34m*\u001b[0m\u001b[0mmap\u001b[0m\u001b[0;34m(\u001b[0m\u001b[0msanitize_sequence\u001b[0m\u001b[0;34m,\u001b[0m \u001b[0margs\u001b[0m\u001b[0;34m)\u001b[0m\u001b[0;34m,\u001b[0m \u001b[0;34m**\u001b[0m\u001b[0mkwargs\u001b[0m\u001b[0;34m)\u001b[0m\u001b[0;34m\u001b[0m\u001b[0;34m\u001b[0m\u001b[0m\n\u001b[0m\u001b[1;32m   1443\u001b[0m \u001b[0;34m\u001b[0m\u001b[0m\n\u001b[1;32m   1444\u001b[0m         \u001b[0mbound\u001b[0m \u001b[0;34m=\u001b[0m \u001b[0mnew_sig\u001b[0m\u001b[0;34m.\u001b[0m\u001b[0mbind\u001b[0m\u001b[0;34m(\u001b[0m\u001b[0max\u001b[0m\u001b[0;34m,\u001b[0m \u001b[0;34m*\u001b[0m\u001b[0margs\u001b[0m\u001b[0;34m,\u001b[0m \u001b[0;34m**\u001b[0m\u001b[0mkwargs\u001b[0m\u001b[0;34m)\u001b[0m\u001b[0;34m\u001b[0m\u001b[0;34m\u001b[0m\u001b[0m\n",
            "\u001b[0;32m/usr/local/lib/python3.10/dist-packages/matplotlib/axes/_axes.py\u001b[0m in \u001b[0;36mscatter\u001b[0;34m(self, x, y, s, c, marker, cmap, norm, vmin, vmax, alpha, linewidths, edgecolors, plotnonfinite, **kwargs)\u001b[0m\n\u001b[1;32m   4582\u001b[0m         \u001b[0my\u001b[0m \u001b[0;34m=\u001b[0m \u001b[0mnp\u001b[0m\u001b[0;34m.\u001b[0m\u001b[0mma\u001b[0m\u001b[0;34m.\u001b[0m\u001b[0mravel\u001b[0m\u001b[0;34m(\u001b[0m\u001b[0my\u001b[0m\u001b[0;34m)\u001b[0m\u001b[0;34m\u001b[0m\u001b[0;34m\u001b[0m\u001b[0m\n\u001b[1;32m   4583\u001b[0m         \u001b[0;32mif\u001b[0m \u001b[0mx\u001b[0m\u001b[0;34m.\u001b[0m\u001b[0msize\u001b[0m \u001b[0;34m!=\u001b[0m \u001b[0my\u001b[0m\u001b[0;34m.\u001b[0m\u001b[0msize\u001b[0m\u001b[0;34m:\u001b[0m\u001b[0;34m\u001b[0m\u001b[0;34m\u001b[0m\u001b[0m\n\u001b[0;32m-> 4584\u001b[0;31m             \u001b[0;32mraise\u001b[0m \u001b[0mValueError\u001b[0m\u001b[0;34m(\u001b[0m\u001b[0;34m\"x and y must be the same size\"\u001b[0m\u001b[0;34m)\u001b[0m\u001b[0;34m\u001b[0m\u001b[0;34m\u001b[0m\u001b[0m\n\u001b[0m\u001b[1;32m   4585\u001b[0m \u001b[0;34m\u001b[0m\u001b[0m\n\u001b[1;32m   4586\u001b[0m         \u001b[0;32mif\u001b[0m \u001b[0ms\u001b[0m \u001b[0;32mis\u001b[0m \u001b[0;32mNone\u001b[0m\u001b[0;34m:\u001b[0m\u001b[0;34m\u001b[0m\u001b[0;34m\u001b[0m\u001b[0m\n",
            "\u001b[0;31mValueError\u001b[0m: x and y must be the same size"
          ]
        },
        {
          "output_type": "display_data",
          "data": {
            "text/plain": [
              "<Figure size 640x480 with 1 Axes>"
            ],
            "image/png": "[encoded data removed]"
          },
          "metadata": {}
        }
      ]
    },
    {
      "cell_type": "code",
      "source": [
        "rf = RandomForestRegressor()\n",
        "rf.fit(df2Test[test_X.columns], test_y)\n",
        "rf.predict()"
      ],
      "metadata": {
        "id": "v8I2_0W6XOO_"
      },
      "id": "v8I2_0W6XOO_",
      "execution_count": null,
      "outputs": []
    }
  ],
  "metadata": {
    "colab": {
      "provenance": [],
      "include_colab_link": true
    },
    "kernelspec": {
      "display_name": "Python 3 (ipykernel)",
      "language": "python",
      "name": "python3"
    },
    "language_info": {
      "codemirror_mode": {
        "name": "ipython",
        "version": 3
      },
      "file_extension": ".py",
      "mimetype": "text/x-python",
      "name": "python",
      "nbconvert_exporter": "python",
      "pygments_lexer": "ipython3",
      "version": "3.11.7"
    }
  },
  "nbformat": 4,
  "nbformat_minor": 5
}