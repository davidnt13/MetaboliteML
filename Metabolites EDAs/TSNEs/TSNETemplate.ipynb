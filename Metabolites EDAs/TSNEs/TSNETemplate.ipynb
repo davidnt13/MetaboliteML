{
 "cells": [
  {
   "cell_type": "code",
   "execution_count": 4,
   "id": "ac32b3a2-0409-4be5-a685-ff8ef46737e8",
   "metadata": {},
   "outputs": [],
   "source": [
    "import pandas as pd\n",
    "from rdkit import Chem\n",
    "from rdkit.Chem import AllChem\n",
    "from tqdm.auto import tqdm\n",
    "from rdkit.Chem.Draw import MolsToGridImage\n",
    "import seaborn as sns\n",
    "from rdkit.Chem import Descriptors\n",
    "from rdkit.ML.Descriptors.MoleculeDescriptors import MolecularDescriptorCalculator\n",
    "import matplotlib.pyplot as plt\n",
    "from sklearn.manifold import TSNE"
   ]
  },
  {
   "cell_type": "code",
   "execution_count": 16,
   "id": "ef202d85-263b-40ce-8a86-a659f1436897",
   "metadata": {},
   "outputs": [],
   "source": [
    "#dfMix = pd.read_csv(\"../../Met_Files/Acetylcholinesterase_CHEMBL220.csv\")\n",
    "#targetName = \"Acetyl\"\n",
    "\n",
    "dfMix = pd.read_csv(\"../../Met_Files/Monoamine_oxidase_A_CHEMBL1951.csv\")\n",
    "targetName = \"Mono\"\n",
    "\n",
    "#dfMix = pd.read_csv(\"../../Met_Files/Protein-tyrosine_phosphatase_1B_CHEMBL335.csv\")\n",
    "#targetName = \"Tyro\""
   ]
  },
  {
   "cell_type": "code",
   "execution_count": null,
   "id": "682e9f64-c117-4674-a695-cbc7a433d66b",
   "metadata": {},
   "outputs": [],
   "source": [
    "def morganHelper(smiles, radius=2, n_bits=1024):\n",
    "    mol = Chem.MolFromSmiles(smiles)\n",
    "    if mol is None:\n",
    "        return None\n",
    "    fp = AllChem.GetMorganFingerprintAsBitVect(mol, radius, nBits=n_bits)\n",
    "    return list(fp)\n",
    "dfMor = pd.DataFrame(data = [], columns = ['MorganFingerprint'])\n",
    "dfMor['MorganFingerprint'] = dfMix['SMILES'].apply(morganHelper)\n",
    "dfMor = dfMor.dropna(subset=['MorganFingerprint'])\n",
    "dfMorgan = pd.DataFrame(dfMor['MorganFingerprint'].tolist())"
   ]
  },
  {
   "cell_type": "code",
   "execution_count": null,
   "id": "bfe45e6b-7586-4fc6-aedf-b20ce4cb79d4",
   "metadata": {},
   "outputs": [],
   "source": [
    "from sklearn.impute import SimpleImputer\n",
    "import numpy as np\n",
    "\n",
    "origData = dfMorgan\n",
    "allData = origData\n",
    "\n",
    "allTargets = dfMix['pIC50']"
   ]
  },
  {
   "cell_type": "code",
   "execution_count": null,
   "id": "e24536ef-2fe8-41a2-9f6e-6af5f2d80300",
   "metadata": {},
   "outputs": [],
   "source": [
    "from sklearn.preprocessing import StandardScaler\n",
    "allDataVals = StandardScaler().fit_transform(allData.values)\n",
    "allTargetVals = allTargets.values"
   ]
  },
  {
   "cell_type": "code",
   "execution_count": null,
   "id": "bc1364ac-97f0-4e8f-8ded-d9c992644e7f",
   "metadata": {},
   "outputs": [],
   "source": [
    "#from sklearn.decomposition import PCA\n",
    "#pca = PCA(n_components = 50)\n",
    "#allDataComp = pca.fit_transform(allDataVals)"
   ]
  },
  {
   "cell_type": "code",
   "execution_count": null,
   "id": "b22296eb-915e-4204-b23f-610647f72cf4",
   "metadata": {},
   "outputs": [],
   "source": [
    "tsne = TSNE(n_components = 2)\n",
    "tsne_crds = tsne.fit_transform(allDataVals)"
   ]
  },
  {
   "cell_type": "code",
   "execution_count": null,
   "id": "f18d3b4b-b8af-4cb7-97ae-72103322f619",
   "metadata": {},
   "outputs": [],
   "source": [
    "tsne_df = pd.DataFrame(tsne_crds,columns=[\"X\",\"Y\"])\n",
    "tsne_df['is_metabolite'] = dfMix['natural_product']\n",
    "tsne_df.head()"
   ]
  },
  {
   "cell_type": "code",
   "execution_count": null,
   "id": "72ecde21-82c7-4063-bd93-b665103d2e09",
   "metadata": {},
   "outputs": [],
   "source": [
    "ax = sns.scatterplot(data=tsne_df.query(\"is_metabolite == False\"),x=\"X\",y=\"Y\",color='lightblue', label = \"Non-Natural Product\")\n",
    "ax = sns.scatterplot(data=tsne_df.query(\"is_metabolite == True\"),x=\"X\",y=\"Y\",color='red', label = \"Natural Product\")\n",
    "plt.title(f\"{targetName}-tSNE\")\n",
    "plt.savefig(f\"{targetName}-tSNE\")\n",
    "plt.legend()"
   ]
  },
  {
   "cell_type": "code",
   "execution_count": null,
   "id": "4362aad4-700f-49b2-95f2-90ec3694700c",
   "metadata": {},
   "outputs": [],
   "source": []
  }
 ],
 "metadata": {
  "kernelspec": {
   "display_name": "Python 3 (ipykernel)",
   "language": "python",
   "name": "python3"
  },
  "language_info": {
   "codemirror_mode": {
    "name": "ipython",
    "version": 3
   },
   "file_extension": ".py",
   "mimetype": "text/x-python",
   "name": "python",
   "nbconvert_exporter": "python",
   "pygments_lexer": "ipython3",
   "version": "3.11.7"
  }
 },
 "nbformat": 4,
 "nbformat_minor": 5
}
