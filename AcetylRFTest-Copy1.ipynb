{
 "cells": [
  {
   "cell_type": "code",
   "execution_count": 1,
   "id": "bc0723f0-c1b4-4cf4-8277-1846d7094bed",
   "metadata": {},
   "outputs": [
    {
     "name": "stdout",
     "output_type": "stream",
     "text": [
      "Requirement already satisfied: tqdm in /opt/anaconda3/lib/python3.11/site-packages (4.65.0)\n",
      "Requirement already satisfied: joblib in /opt/anaconda3/lib/python3.11/site-packages (1.2.0)\n",
      "Note: you may need to restart the kernel to use updated packages.\n"
     ]
    }
   ],
   "source": [
    "pip install tqdm joblib"
   ]
  },
  {
   "cell_type": "code",
   "execution_count": 1,
   "id": "6d347b97-4ebb-41a5-9fb2-ec39146a0267",
   "metadata": {},
   "outputs": [],
   "source": [
    "import pandas as pd #data manipulation\n",
    "from rdkit import Chem #Chemistry\n",
    "from rdkit.Chem import Descriptors\n",
    "import numpy as np #matrix algebra\n",
    "#from lightgbm import LGBMRegressor, plot_importance #LightGBM models\n",
    "from sklearn.model_selection import train_test_split #ML trainining\n",
    "from sklearn.metrics import r2_score, mean_squared_error #ML stats\n",
    "import seaborn as sns #Plotting\n",
    "#from yellowbrick.regressor import prediction_error, ResidualsPlot"
   ]
  },
  {
   "cell_type": "code",
   "execution_count": 2,
   "id": "43ac0c44-fcbf-4cfd-bfe5-0638c842f15f",
   "metadata": {},
   "outputs": [],
   "source": [
    "dfTrain = pd.read_csv(\"training_data.csv\")\n",
    "dfTest = pd.read_csv(\"test_data.csv\")"
   ]
  },
  {
   "cell_type": "code",
   "execution_count": 3,
   "id": "01d16971-8cc1-4cea-9f19-fcac5dddf4d7",
   "metadata": {},
   "outputs": [],
   "source": [
    "smiles_stringsTrain = dfTrain['SMILES'].tolist()\n",
    "smiles_stringsTest = dfTest['SMILES'].tolist()"
   ]
  },
  {
   "cell_type": "code",
   "execution_count": 4,
   "id": "ce58c5bb-e92a-41f8-a293-a774ca36836d",
   "metadata": {},
   "outputs": [],
   "source": [
    "smilesTrain = [Chem.MolFromSmiles(mol) for mol in smiles_stringsTrain]\n",
    "smilesTest = [Chem.MolFromSmiles(mol) for mol in smiles_stringsTest]"
   ]
  },
  {
   "cell_type": "code",
   "execution_count": 5,
   "id": "59eafebb-2fec-4a12-a0f7-3cffb4eb1398",
   "metadata": {},
   "outputs": [],
   "source": [
    "descrsTrain = [Descriptors.CalcMolDescriptors(mol) for mol in smilesTrain]\n",
    "descrsTest = [Descriptors.CalcMolDescriptors(mol) for mol in smilesTest]\n",
    "df2Train = pd.DataFrame(descrsTrain)\n",
    "df2Test = pd.DataFrame(descrsTest)"
   ]
  },
  {
   "cell_type": "code",
   "execution_count": 6,
   "id": "34280ecb-f4d0-4dbb-9a79-8b94bf6e6c70",
   "metadata": {},
   "outputs": [],
   "source": [
    "train_X = df2Train.bfill()\n",
    "train_y = dfTrain.pIC50\n",
    "test_X = df2Test.bfill()\n",
    "test_y = dfTest.pIC50"
   ]
  },
  {
   "cell_type": "code",
   "execution_count": 7,
   "id": "55a5c7a3-aa86-4111-99ed-0aedbe175b91",
   "metadata": {},
   "outputs": [],
   "source": [
    "from tqdm import tqdm\n",
    "import joblib\n",
    "import numpy as np\n",
    "\n",
    "from joblib import Parallel, delayed\n",
    "from tqdm.auto import tqdm\n",
    "\n",
    "class TQDMParallel(Parallel):\n",
    "    def __init__(self, *args, **kwargs):\n",
    "        self._pbar = kwargs.pop('pbar', None)\n",
    "        super().__init__(*args, **kwargs)\n",
    "\n",
    "    def __call__(self, *args, **kwargs):\n",
    "        with tqdm(total=len(self._iterable), desc=self._pbar) as self._pbar:\n",
    "            return super().__call__(*args, **kwargs)\n",
    "\n",
    "    def print_progress(self):\n",
    "        if self._pbar is not None:\n",
    "            self._pbar.n = self.n_completed_tasks\n",
    "            self._pbar.refresh()\n",
    "        else:\n",
    "            super().print_progress()"
   ]
  },
  {
   "cell_type": "code",
   "execution_count": 8,
   "id": "cacd827b-7b68-452a-a36b-3d456419f801",
   "metadata": {},
   "outputs": [],
   "source": [
    "from sklearn.model_selection import ShuffleSplit\n",
    "from sklearn.preprocessing import StandardScaler\n",
    "from sklearn.ensemble import RandomForestRegressor\n",
    "from sklearn.model_selection import RandomizedSearchCV"
   ]
  },
  {
   "cell_type": "code",
   "execution_count": 12,
   "id": "68622a11-3253-4740-a64a-de143e924a3d",
   "metadata": {},
   "outputs": [],
   "source": [
    "# Create the RandomForest model\n",
    "regr = RandomForestRegressor(n_estimators=100, n_jobs=-1, random_state=42)\n",
    "\n",
    "# Patch joblib's Parallel to use the custom TQDMParallel\n",
    "joblib.Parallel = TQDMParallel\n",
    "\n",
    "# Train the model\n",
    "with joblib.parallel_backend('threading', n_jobs=-1):\n",
    "    regr.fit(train_X, train_y)\n",
    "    y_pred = regr.predict(test_X)"
   ]
  },
  {
   "cell_type": "code",
   "execution_count": 14,
   "id": "bfc68a2f-8f9a-42ce-b632-470eb8a12384",
   "metadata": {},
   "outputs": [
    {
     "name": "stdout",
     "output_type": "stream",
     "text": [
      "0.0007012504979255763\n",
      "1.1717760751143211\n",
      "0.1560502958152952\n",
      "1.1613386566313388\n"
     ]
    },
    {
     "ename": "NameError",
     "evalue": "name 'plt' is not defined",
     "output_type": "error",
     "traceback": [
      "\u001b[0;31m---------------------------------------------------------------------------\u001b[0m",
      "\u001b[0;31mNameError\u001b[0m                                 Traceback (most recent call last)",
      "Cell \u001b[0;32mIn[14], line 14\u001b[0m\n\u001b[1;32m     12\u001b[0m \u001b[38;5;28mprint\u001b[39m(bias)\n\u001b[1;32m     13\u001b[0m \u001b[38;5;28mprint\u001b[39m(sdep)\n\u001b[0;32m---> 14\u001b[0m plt\u001b[38;5;241m.\u001b[39mplot(y_pred, test_y)\n\u001b[1;32m     15\u001b[0m plt\u001b[38;5;241m.\u001b[39mshow()\n",
      "\u001b[0;31mNameError\u001b[0m: name 'plt' is not defined"
     ]
    }
   ],
   "source": [
    "# Coefficient of determination\n",
    "r2 = r2_score(test_y, y_pred)\n",
    "# Root mean squared error\n",
    "rmsd = mean_squared_error(test_y, y_pred)**0.5\n",
    "# Bias\n",
    "bias = np.mean(y_pred - test_y)\n",
    "# Standard deviation of the error of prediction\n",
    "sdep = np.mean(((y_pred - test_y) - np.mean(y_pred - test_y))**2)**0.5\n",
    "\n",
    "print(r2)\n",
    "print(rmsd)\n",
    "print(bias)\n",
    "print(sdep)\n",
    "plt.plot(y_pred, test_y)\n",
    "plt.show()"
   ]
  },
  {
   "cell_type": "code",
   "execution_count": null,
   "id": "8d5cba84-e2b0-44b3-90e6-fb9f3857492e",
   "metadata": {},
   "outputs": [],
   "source": [
    "print(r2)\n",
    "print(rmsd)\n",
    "print(bias)\n",
    "print(sdep)"
   ]
  },
  {
   "cell_type": "code",
   "execution_count": null,
   "id": "509cb118-56a6-4f59-a921-4ebb4fe29ca4",
   "metadata": {},
   "outputs": [],
   "source": [
    "#! /bin/usr/env python\n",
    "\n",
    "# Random forest with nested CV\n",
    "\n",
    "from sklearn.model_selection import ShuffleSplit\n",
    "from sklearn.preprocessing import StandardScaler\n",
    "from sklearn.ensemble import RandomForestRegressor\n",
    "from sklearn.model_selection import RandomizedSearchCV\n",
    "from sklearn.metrics import r2_score, mean_squared_error\n",
    "\n",
    "import numpy as np\n",
    "import pandas as pd\n",
    "\n",
    "# Number of MC CV cycles\n",
    "mc_cv = 20\n",
    "\n",
    "# Number of CV folds for hyperparameter tuning:\n",
    "hyper_cv = 10\n",
    "\n",
    "# Fraction of data to use as test set:\n",
    "test_frac = 0.3\n",
    "\n",
    "# Name of file to write all predictions to:\n",
    "predictions_filename = 'RF_predictions.csv'\n",
    "\n",
    "# Variables to save model performance statistics:\n",
    "r2_sum = 0\n",
    "rmsd_sum = 0\n",
    "bias_sum = 0\n",
    "sdep_sum = 0\n",
    "\n",
    "# List to save individual predictions from the models trained from\n",
    "# each train/test split:\n",
    "all_preds = np.empty((mc_cv, len(y)), dtype=float)\n",
    "all_preds[:] = np.nan\n",
    "\n",
    "# Initialise train test split:\n",
    "train_test_split = ShuffleSplit(mc_cv, test_size=test_frac)\n",
    "\n",
    "# Monte Carlo CV:\n",
    "for n, [train_idx, test_idx] in enumerate(train_test_split.split(train_X)):\n",
    "\n",
    "    # Separate data into training and test sets:\n",
    "    # Have to use \".iloc\" if x and y are pandas DataFrames and Series objects,\n",
    "    # if they are just numpy arrays remove \".iloc\".\n",
    "    x_train = x.iloc[train_idx]\n",
    "    x_test = x.iloc[test_idx]\n",
    "    y_train = y.iloc[train_idx]\n",
    "    y_test = y.iloc[test_idx]\n",
    "\n",
    "    # Centre and scale all x features to have mean=0 and var=1:\n",
    "    # (Not required for random forest, but important for some other ML methods)\n",
    "    scaler = StandardScaler()\n",
    "    x_train = scaler.fit_transform(x_train)\n",
    "    x_test = scaler.transform(x_test)\n",
    "\n",
    "    rf = RandomForestRegressor()\n",
    "\n",
    "    # Train RF model:\n",
    "    rf.fit(x_train, y_train)\n",
    "\n",
    "    # Use trained RF model to predict y data for the test set:\n",
    "    y_pred = rf.predict(x_test)\n",
    "\n",
    "    # Assess performace of model based on predictions:\n",
    "\n",
    "    # Coefficient of determination\n",
    "    r2 = r2_score(y_test, y_pred)\n",
    "    # Root mean squared error\n",
    "    rmsd = mean_squared_error(y_test, y_pred)**0.5\n",
    "    # Bias\n",
    "    bias = np.mean(y_pred - y_test)\n",
    "    # Standard deviation of the error of prediction\n",
    "    sdep = np.mean(((y_pred - y_test) - np.mean(y_pred - y_test))**2)**0.5\n",
    "\n",
    "    # Save running sum of results:\n",
    "    r2_sum += r2\n",
    "    rmsd_sum += rmsd\n",
    "    bias_sum += bias\n",
    "    sdep_sum += sdep\n",
    "\n",
    "    # Save individual predictions:\n",
    "    all_preds[n,test_idx] = y_pred\n",
    "\n",
    "# Average results over resamples:\n",
    "r2_av = r2_sum/mc_cv\n",
    "rmsd_av = rmsd_sum/mc_cv\n",
    "bias_av = bias_sum/mc_cv\n",
    "sdep_av = sdep_sum/mc_cv\n",
    "\n",
    "# Write average results to a file:\n",
    "results_file = open(results_filename, 'w')\n",
    "results_file.write('r2: {:.3f}\\n'.format(r2_av))\n",
    "results_file.write('rmsd: {:.3f}\\n'.format(rmsd_av))\n",
    "results_file.write('bias: {:.3f}\\n'.format(bias_av))\n",
    "results_file.write('sdep: {:.3f}\\n'.format(sdep_av))\n",
    "results_file.close()\n",
    "\n",
    "# Save all individual predictions to file:\n",
    "predictions_file = open(predictions_filename, 'w')\n",
    "# Write header:\n",
    "predictions_file.write(','.join([str(i) for i in y.index]) + '\\n')\n",
    "# Write individual predictions from each MC CV cycle:\n",
    "for n in range(mc_cv):\n",
    "    predictions_file.write(','.join([str(p) if not np.isnan(p) else '' for p in all_preds[n]]) + '\\n')\n",
    "predictions_file.close()"
   ]
  }
 ],
 "metadata": {
  "kernelspec": {
   "display_name": "Python 3 (ipykernel)",
   "language": "python",
   "name": "python3"
  },
  "language_info": {
   "codemirror_mode": {
    "name": "ipython",
    "version": 3
   },
   "file_extension": ".py",
   "mimetype": "text/x-python",
   "name": "python",
   "nbconvert_exporter": "python",
   "pygments_lexer": "ipython3",
   "version": "3.11.7"
  }
 },
 "nbformat": 4,
 "nbformat_minor": 5
}
