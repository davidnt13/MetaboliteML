{
  "cells": [
    {
      "cell_type": "code",
      "execution_count": null,
      "id": "1c7627a8-2adf-4092-90b7-e9dfe79e69b7",
      "metadata": {
        "colab": {
          "base_uri": "https://localhost:8080/"
        },
        "id": "1c7627a8-2adf-4092-90b7-e9dfe79e69b7",
        "outputId": "6345cd5a-0aaa-422c-e9e7-c92d1d29f450"
      },
      "outputs": [
        {
          "name": "stdout",
          "output_type": "stream",
          "text": [
            "Collecting rdkit\n",
            "  Downloading rdkit-2023.9.6-cp310-cp310-manylinux_2_17_x86_64.manylinux2014_x86_64.whl (34.9 MB)\n",
            "\u001b[2K     \u001b[90m━━━━━━━━━━━━━━━━━━━━━━━━━━━━━━━━━━━━━━━━\u001b[0m \u001b[32m34.9/34.9 MB\u001b[0m \u001b[31m13.8 MB/s\u001b[0m eta \u001b[36m0:00:00\u001b[0m\n",
            "\u001b[?25hRequirement already satisfied: numpy in /usr/local/lib/python3.10/dist-packages (from rdkit) (1.25.2)\n",
            "Requirement already satisfied: Pillow in /usr/local/lib/python3.10/dist-packages (from rdkit) (9.4.0)\n",
            "Installing collected packages: rdkit\n",
            "Successfully installed rdkit-2023.9.6\n"
          ]
        }
      ],
      "source": [
        "!pip install rdkit"
      ]
    },
    {
      "cell_type": "code",
      "execution_count": null,
      "id": "6d347b97-4ebb-41a5-9fb2-ec39146a0267",
      "metadata": {
        "id": "6d347b97-4ebb-41a5-9fb2-ec39146a0267"
      },
      "outputs": [],
      "source": [
        "import pandas as pd #data manipulation\n",
        "from rdkit import Chem #Chemistry\n",
        "from rdkit.Chem import Descriptors\n",
        "import numpy as np #matrix algebra\n",
        "from sklearn.model_selection import train_test_split #ML trainining\n",
        "from sklearn.metrics import r2_score, mean_squared_error #ML stats\n",
        "import seaborn as sns #Plotting\n",
        "import matplotlib.pyplot as plt"
      ]
    },
    {
      "cell_type": "code",
      "execution_count": null,
      "id": "43ac0c44-fcbf-4cfd-bfe5-0638c842f15f",
      "metadata": {
        "id": "43ac0c44-fcbf-4cfd-bfe5-0638c842f15f"
      },
      "outputs": [],
      "source": [
        "dfTrain = pd.read_csv(\"training_data.csv\")\n",
        "dfTest = pd.read_csv(\"test_data.csv\")"
      ]
    },
    {
      "cell_type": "code",
      "execution_count": null,
      "id": "01d16971-8cc1-4cea-9f19-fcac5dddf4d7",
      "metadata": {
        "id": "01d16971-8cc1-4cea-9f19-fcac5dddf4d7"
      },
      "outputs": [],
      "source": [
        "smiles_stringsTrain = dfTrain['SMILES'].tolist()\n",
        "smiles_stringsTest = dfTest['SMILES'].tolist()"
      ]
    },
    {
      "cell_type": "code",
      "execution_count": null,
      "id": "ce58c5bb-e92a-41f8-a293-a774ca36836d",
      "metadata": {
        "id": "ce58c5bb-e92a-41f8-a293-a774ca36836d"
      },
      "outputs": [],
      "source": [
        "smilesTrain = [Chem.MolFromSmiles(mol) for mol in smiles_stringsTrain]\n",
        "smilesTest = [Chem.MolFromSmiles(mol) for mol in smiles_stringsTest]"
      ]
    },
    {
      "cell_type": "code",
      "execution_count": null,
      "id": "59eafebb-2fec-4a12-a0f7-3cffb4eb1398",
      "metadata": {
        "id": "59eafebb-2fec-4a12-a0f7-3cffb4eb1398"
      },
      "outputs": [],
      "source": [
        "descrsTrain = [Descriptors.CalcMolDescriptors(mol) for mol in smilesTrain]\n",
        "descrsTest = [Descriptors.CalcMolDescriptors(mol) for mol in smilesTest]\n",
        "df2Train = pd.DataFrame(descrsTrain)\n",
        "df2Test = pd.DataFrame(descrsTest)"
      ]
    },
    {
      "cell_type": "code",
      "execution_count": null,
      "id": "34280ecb-f4d0-4dbb-9a79-8b94bf6e6c70",
      "metadata": {
        "id": "34280ecb-f4d0-4dbb-9a79-8b94bf6e6c70"
      },
      "outputs": [],
      "source": [
        "train_X = df2Train.dropna(axis = 1)\n",
        "train_y = dfTrain.pIC50\n",
        "test_X = df2Test.dropna(axis = 1)\n",
        "test_y = dfTest.pIC50"
      ]
    },
    {
      "cell_type": "code",
      "execution_count": null,
      "id": "cacd827b-7b68-452a-a36b-3d456419f801",
      "metadata": {
        "id": "cacd827b-7b68-452a-a36b-3d456419f801"
      },
      "outputs": [],
      "source": [
        "from sklearn.model_selection import ShuffleSplit\n",
        "from sklearn.preprocessing import StandardScaler\n",
        "from sklearn.ensemble import RandomForestRegressor\n",
        "from sklearn.model_selection import RandomizedSearchCV"
      ]
    },
    {
      "cell_type": "code",
      "execution_count": null,
      "id": "4f0067b4-648e-4225-9edf-b172d7185d8b",
      "metadata": {
        "colab": {
          "base_uri": "https://localhost:8080/"
        },
        "id": "4f0067b4-648e-4225-9edf-b172d7185d8b",
        "outputId": "87561245-3e90-4072-9a5e-80f625219007"
      },
      "outputs": [
        {
          "name": "stdout",
          "output_type": "stream",
          "text": [
            "Cross Validation Scores:  [0.62130504 0.69203925 0.66613771 0.63166438 0.59009029 0.61848555\n",
            " 0.60277081 0.64095331 0.60331313 0.38221315]\n",
            "Average CV Score:  0.604897262945661\n",
            "Number of CV Scores used in Average:  10\n"
          ]
        }
      ],
      "source": [
        "regressor = RandomForestRegressor(n_estimators=10, random_state=1)\n",
        "#classifier = RandomForestClassifier(n_estimators=10, random_state=0)\n",
        "\n",
        "from sklearn.model_selection import KFold, cross_val_score\n",
        "\n",
        "k_folds = KFold(n_splits = 10)\n",
        "\n",
        "scores = cross_val_score(regressor, train_X, train_y, cv = k_folds)\n",
        "\n",
        "print(\"Cross Validation Scores: \", scores)\n",
        "print(\"Average CV Score: \", scores.mean())\n",
        "print(\"Number of CV Scores used in Average: \", len(scores))"
      ]
    },
    {
      "cell_type": "code",
      "execution_count": 11,
      "id": "509cb118-56a6-4f59-a921-4ebb4fe29ca4",
      "metadata": {
        "id": "509cb118-56a6-4f59-a921-4ebb4fe29ca4"
      },
      "outputs": [],
      "source": [
        "from sklearn.model_selection import ShuffleSplit\n",
        "from sklearn.preprocessing import StandardScaler\n",
        "from sklearn.ensemble import RandomForestRegressor\n",
        "from sklearn.model_selection import RandomizedSearchCV\n",
        "from sklearn.metrics import r2_score, mean_squared_error\n",
        "\n",
        "import numpy as np\n",
        "import pandas as pd\n",
        "\n",
        "# Number of MC CV cycles\n",
        "mc_cv = 20\n",
        "\n",
        "# Number of CV folds for hyperparameter tuning:\n",
        "hyper_cv = 10\n",
        "\n",
        "# Fraction of data to use as test set:\n",
        "test_frac = 0.3\n",
        "\n",
        "# Name of file to write all predictions to:\n",
        "predictions_filename = 'RF_predictions.csv'\n",
        "\n",
        "# Variables to save model performance statistics:\n",
        "r2_sum = 0\n",
        "rmsd_sum = 0\n",
        "bias_sum = 0\n",
        "sdep_sum = 0\n",
        "\n",
        "# List to save individual predictions from the models trained from\n",
        "# each train/test split:\n",
        "all_preds = np.empty((mc_cv, len(train_y)), dtype=float)\n",
        "all_preds[:] = np.nan\n",
        "\n",
        "# Initialise train test split:\n",
        "train_test_split = ShuffleSplit(mc_cv, test_size=test_frac)\n",
        "\n",
        "# Monte Carlo CV:\n",
        "for n, [train_idx, test_idx] in enumerate(train_test_split.split(train_X)):\n",
        "\n",
        "    # Separate data into training and test sets:\n",
        "    # Have to use \".iloc\" if x and y are pandas DataFrames and Series objects,\n",
        "    # if they are just numpy arrays remove \".iloc\".\n",
        "    x_train = train_X.iloc[train_idx]\n",
        "    x_test = train_X.iloc[test_idx]\n",
        "    y_train = train_y.iloc[train_idx]\n",
        "    y_test = train_y.iloc[test_idx]\n",
        "\n",
        "    # Centre and scale all x features to have mean=0 and var=1:\n",
        "    # (Not required for random forest, but important for some other ML methods)\n",
        "    scaler = StandardScaler()\n",
        "    x_train = scaler.fit_transform(x_train)\n",
        "    x_test = scaler.transform(x_test)\n",
        "\n",
        "    rf = RandomForestRegressor()\n",
        "\n",
        "    # Train RF model:\n",
        "    rf.fit(x_train, y_train)\n",
        "\n",
        "    # Use trained RF model to predict y data for the test set:\n",
        "    y_pred = rf.predict(x_test)\n",
        "\n",
        "    # Assess performace of model based on predictions:\n",
        "\n",
        "    # Coefficient of determination\n",
        "    r2 = r2_score(y_test, y_pred)\n",
        "    # Root mean squared error\n",
        "    rmsd = mean_squared_error(y_test, y_pred)**0.5\n",
        "    # Bias\n",
        "    bias = np.mean(y_pred - y_test)\n",
        "    # Standard deviation of the error of prediction\n",
        "    sdep = np.mean(((y_pred - y_test) - np.mean(y_pred - y_test))**2)**0.5\n",
        "\n",
        "    # Save running sum of results:\n",
        "    r2_sum += r2\n",
        "    rmsd_sum += rmsd\n",
        "    bias_sum += bias\n",
        "    sdep_sum += sdep\n",
        "\n",
        "    # Save individual predictions:\n",
        "    all_preds[n,test_idx] = y_pred\n",
        "\n",
        "# Average results over resamples:\n",
        "r2_av = r2_sum/mc_cv\n",
        "rmsd_av = rmsd_sum/mc_cv\n",
        "bias_av = bias_sum/mc_cv\n",
        "sdep_av = sdep_sum/mc_cv\n"
      ]
    },
    {
      "cell_type": "code",
      "source": [
        "# Name of file to write results to:\n",
        "results_filename = 'RF_results.txt'\n",
        "\n",
        "# Write average results to a file:\n",
        "results_file = open(results_filename, 'w')\n",
        "results_file.write('r2: {:.3f}\\n'.format(r2_av))\n",
        "results_file.write('rmsd: {:.3f}\\n'.format(rmsd_av))\n",
        "results_file.write('bias: {:.3f}\\n'.format(bias_av))\n",
        "results_file.write('sdep: {:.3f}\\n'.format(sdep_av))\n",
        "results_file.close()\n",
        "\n",
        "# Save all individual predictions to file:\n",
        "predictions_file = open(predictions_filename, 'w')\n",
        "# Write header:\n",
        "predictions_file.write(','.join([str(i) for i in train_y.index]) + '\\n')\n",
        "# Write individual predictions from each MC CV cycle:\n",
        "for n in range(mc_cv):\n",
        "    predictions_file.write(','.join([str(p) if not np.isnan(p) else '' for p in all_preds[n]]) + '\\n')\n",
        "predictions_file.close()"
      ],
      "metadata": {
        "id": "aJoiSq95DUs1"
      },
      "id": "aJoiSq95DUs1",
      "execution_count": 13,
      "outputs": []
    },
    {
      "cell_type": "code",
      "source": [
        "y_pred = rf.predict(df2Test[train_X.columns])\n",
        "# Coefficient of determination\n",
        "r2 = r2_score(test_y, y_pred)\n",
        "# Root mean squared error\n",
        "rmsd = mean_squared_error(test_y, y_pred)**0.5\n",
        "# Bias\n",
        "bias = np.mean(y_pred - test_y)\n",
        "# Standard deviation of the error of prediction\n",
        "sdep = np.mean(((y_pred - test_y) - np.mean(y_pred - test_y))**2)**0.5\n",
        "\n",
        "print(r2)\n",
        "print(rmsd)\n",
        "print(bias)\n",
        "print(sdep)\n",
        "plt.scatter(test_y, y_pred)\n",
        "a, b = np.polyfit(test_y, y_pred, 1)\n",
        "plt.plot(test_y, a*test_y+b)\n",
        "plt.xlabel(\"Experimental pIC50\")\n",
        "plt.ylabel(\"Predicted pIC50\")\n",
        "plt.show()"
      ],
      "metadata": {
        "colab": {
          "base_uri": "https://localhost:8080/",
          "height": 579
        },
        "id": "WopHA-49K6R_",
        "outputId": "a060a848-e1cb-49ce-b998-6a1cbf040aa1"
      },
      "id": "WopHA-49K6R_",
      "execution_count": 24,
      "outputs": [
        {
          "output_type": "stream",
          "name": "stderr",
          "text": [
            "/usr/local/lib/python3.10/dist-packages/sklearn/base.py:432: UserWarning: X has feature names, but RandomForestRegressor was fitted without feature names\n",
            "  warnings.warn(\n"
          ]
        },
        {
          "output_type": "stream",
          "name": "stdout",
          "text": [
            "-0.4403693492336751\n",
            "1.4068049575004231\n",
            "0.7346278535353523\n",
            "1.1997591863610833\n"
          ]
        },
        {
          "output_type": "display_data",
          "data": {
            "text/plain": [
              "<Figure size 640x480 with 1 Axes>"
            ],
            "image/png": "[encoded data removed]"
          },
          "metadata": {}
        }
      ]
    },
    {
      "cell_type": "code",
      "source": [
        "print(a)"
      ],
      "metadata": {
        "colab": {
          "base_uri": "https://localhost:8080/"
        },
        "id": "IhTVlcPiYKAD",
        "outputId": "6b5b557b-bba2-4496-9804-1374c871908f"
      },
      "id": "IhTVlcPiYKAD",
      "execution_count": 23,
      "outputs": [
        {
          "output_type": "stream",
          "name": "stdout",
          "text": [
            "-0.002974949100784301\n"
          ]
        }
      ]
    }
  ],
  "metadata": {
    "colab": {
      "provenance": []
    },
    "kernelspec": {
      "display_name": "Python 3 (ipykernel)",
      "language": "python",
      "name": "python3"
    },
    "language_info": {
      "codemirror_mode": {
        "name": "ipython",
        "version": 3
      },
      "file_extension": ".py",
      "mimetype": "text/x-python",
      "name": "python",
      "nbconvert_exporter": "python",
      "pygments_lexer": "ipython3",
      "version": "3.11.7"
    }
  },
  "nbformat": 4,
  "nbformat_minor": 5
}