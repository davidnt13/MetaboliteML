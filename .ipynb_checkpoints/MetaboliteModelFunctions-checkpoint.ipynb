{
 "cells": [
  {
   "cell_type": "code",
   "execution_count": null,
   "metadata": {
    "id": "wWdzoKSTa03R"
   },
   "outputs": [],
   "source": [
    "import pandas as pd\n",
    "from rdkit import Chem\n",
    "from rdkit.Chem import Descriptors\n",
    "import numpy as np\n",
    "from sklearn.model_selection import train_test_split\n",
    "from sklearn.metrics import r2_score, mean_squared_error\n",
    "import matplotlib.pyplot as plt"
   ]
  },
  {
   "cell_type": "code",
   "execution_count": null,
   "metadata": {
    "id": "GhYEleS_a6Bh"
   },
   "outputs": [],
   "source": [
    "from sklearn.model_selection import ShuffleSplit\n",
    "from sklearn.preprocessing import StandardScaler\n",
    "from sklearn.ensemble import RandomForestRegressor\n",
    "from sklearn.model_selection import RandomizedSearchCV\n",
    "from sklearn.model_selection import KFold, cross_val_score\n",
    "from sklearn.model_selection import StratifiedKFold, cross_val_score"
   ]
  },
  {
   "cell_type": "code",
   "execution_count": null,
   "metadata": {
    "id": "71zjBKzzk--l"
   },
   "outputs": [],
   "source": [
    "def importStatements():\n",
    "  import pandas as pd\n",
    "  from rdkit import Chem\n",
    "  from rdkit.Chem import Descriptors\n",
    "  import numpy as np\n",
    "  from sklearn.model_selection import train_test_split\n",
    "  from sklearn.metrics import r2_score, mean_squared_error\n",
    "  import matplotlib.pyplot as plt\n",
    "  from sklearn.model_selection import ShuffleSplit\n",
    "  from sklearn.preprocessing import StandardScaler\n",
    "  from sklearn.ensemble import RandomForestRegressor\n",
    "  from sklearn.model_selection import RandomizedSearchCV\n",
    "  from sklearn.model_selection import KFold, cross_val_score\n",
    "  from sklearn.model_selection import StratifiedKFold, cross_val_score"
   ]
  },
  {
   "cell_type": "code",
   "execution_count": null,
   "metadata": {
    "id": "iDpAoW2Aa6X_"
   },
   "outputs": [],
   "source": [
    "def CalcRDKitDescriptors(fileName):\n",
    "  df = pd.read_csv(fileName)\n",
    "  smiles_strings = df['SMILES'].tolist()\n",
    "  mySmiles = [Chem.MolFromSmiles(mol) for mol in smiles_strings]\n",
    "  myDescriptors = [Descriptors.CalcMolDescriptors(mol) for mol in mySmiles]\n",
    "  return pd.DataFrame(myDescriptors)"
   ]
  },
  {
   "cell_type": "code",
   "execution_count": null,
   "metadata": {
    "id": "ir7Ho2uDb1DD"
   },
   "outputs": [],
   "source": [
    "def makeTrainAndTest(fileNameTrain, fileNameTest, target):\n",
    "  dfTrain = pd.read_csv(fileNameTrain)\n",
    "  dfTest = pd.read_csv(fileNameTest)\n",
    "\n",
    "  descTrain = CalcRDKitDescriptors(fileNameTrain)\n",
    "  descTest = CalcRDKitDescriptors(fileNameTest)\n",
    "\n",
    "  train_X = descTrain.dropna(axis = 1)\n",
    "  train_y = dfTrain[target]\n",
    "  test_X = descTest.dropna(axis = 1)\n",
    "  test_y = dfTest[target]\n",
    "\n",
    "  common_columns = train_X.columns.intersection(test_X.columns)\n",
    "  train_X = train_X[common_columns]\n",
    "  test_X = test_X[common_columns]\n",
    "\n",
    "  return train_X, train_y, test_X, test_y"
   ]
  },
  {
   "cell_type": "code",
   "execution_count": null,
   "metadata": {
    "id": "Gk-Gqisf1tu_"
   },
   "outputs": [],
   "source": [
    "modelTypes = {}\n",
    "modelTypes['RF'] = RandomForestRegressor()\n",
    "\n",
    "def loopedKfoldCrossVal(modelType, cycleNum, train_X, train_y):\n",
    "    modelTypes = {'RF': RandomForestRegressor()}\n",
    "\n",
    "    num_cv = cycleNum\n",
    "    predictions_filename = f'CV{modelType}_predictions.csv'\n",
    "\n",
    "    predStats = {'r2_sum': 0, 'rmsd_sum': 0, 'bias_sum': 0, 'sdep_sum': 0}\n",
    "    predictionStats = pd.DataFrame(data=np.zeros((num_cv, 6)), columns=['Fold', 'Number of Molecules', 'r2', 'rmsd', 'bias', 'sdep'])\n",
    "\n",
    "    myPreds = pd.DataFrame(index=train_y.index, columns=['Prediction', 'Fold'])\n",
    "    myPreds['Prediction'] = np.nan\n",
    "    myPreds['Fold'] = np.nan\n",
    "\n",
    "    train_test_split = KFold(n_splits=num_cv, shuffle=True, random_state=1)\n",
    "\n",
    "    for n, (train_idx, test_idx) in enumerate(train_test_split.split(train_X)):\n",
    "        x_train = train_X.iloc[train_idx]\n",
    "        x_test = train_X.iloc[test_idx]\n",
    "        y_train = train_y.iloc[train_idx]\n",
    "        y_test = train_y.iloc[test_idx]\n",
    "\n",
    "        model = modelTypes[modelType]\n",
    "\n",
    "        # Train model\n",
    "        model.fit(x_train, y_train)\n",
    "\n",
    "        y_pred = model.predict(x_test)\n",
    "\n",
    "        # Metrics calculations\n",
    "        r2 = r2_score(y_test, y_pred)\n",
    "        rmsd = mean_squared_error(y_test, y_pred, squared=False)\n",
    "        bias = np.mean(y_pred - y_test)\n",
    "        sdep = np.std(y_pred - y_test)\n",
    "\n",
    "        # Update stats\n",
    "        predStats['r2_sum'] += r2\n",
    "        predStats['rmsd_sum'] += rmsd\n",
    "        predStats['bias_sum'] += bias\n",
    "        predStats['sdep_sum'] += sdep\n",
    "\n",
    "        # Update predictions\n",
    "        myPreds.loc[test_idx, 'Prediction'] = y_pred\n",
    "        myPreds.loc[test_idx, 'Fold'] = n + 1\n",
    "\n",
    "        # Ensure correct number of values are assigned\n",
    "        predictionStats.iloc[n] = [n + 1, len(test_idx), r2, rmsd, bias, sdep]\n",
    "\n",
    "    # Calculate averages\n",
    "    r2_av = predStats['r2_sum'] / num_cv\n",
    "    rmsd_av = predStats['rmsd_sum'] / num_cv\n",
    "    bias_av = predStats['bias_sum'] / num_cv\n",
    "    sdep_av = predStats['sdep_sum'] / num_cv\n",
    "\n",
    "    # Create a DataFrame row for averages\n",
    "    avg_row = pd.DataFrame([['Average', len(train_y), r2_av, rmsd_av, bias_av, sdep_av]], columns=predictionStats.columns)\n",
    "\n",
    "    # Append average row to the DataFrame\n",
    "    predictionStats = pd.concat([predictionStats, avg_row], ignore_index=True)\n",
    "\n",
    "    myPreds.to_csv(predictions_filename, index=True)\n",
    "    predictionStats.to_csv(f'CV{modelType}_stats.csv', index=False)\n",
    "\n",
    "    return myPreds, predictionStats"
   ]
  },
  {
   "cell_type": "code",
   "execution_count": null,
   "metadata": {
    "id": "cHXBHsnd4omT"
   },
   "outputs": [],
   "source": [
    "modelTypes = {}\n",
    "modelTypes['RF'] = RandomForestRegressor()\n",
    "\n",
    "def loopedStratKfoldCrossVal(modelType, cycleNum, train_X, train_y, distributor):\n",
    "\n",
    "  num_cv = cycleNum\n",
    "\n",
    "  predictions_filename = f'CV{modelType}_predictions.csv'\n",
    "\n",
    "  predStats = {'r2_sum': 0, 'rmsd_sum': 0, 'bias_sum': 0, 'sdep_sum': 0}\n",
    "  predictionStats = pd.DataFrame(data = np.zeros((num_cv, 6)), columns = ['Fold', 'Number of Molecules', 'r2', 'rmsd', 'bias', 'sdep'])\n",
    "\n",
    "  myPreds = pd.DataFrame(data = np.zeros((len(train_y), 2)), index = train_y.index, columns = ['Prediction', 'Fold'])\n",
    "  myPreds['Prediction'] = np.nan\n",
    "  myPreds['Fold'] = np.nan\n",
    "\n",
    "  train_test_split = StratifiedKFold(n_splits = num_cv, shuffle = True, random_state = 1)\n",
    "\n",
    "  for n, [train_idx, test_idx] in enumerate(train_test_split.split(train_X, distributor)):\n",
    "\n",
    "    train_idx = train_y.index[train_idx]\n",
    "    test_idx = train_y.index[test_idx]\n",
    "\n",
    "    x_train = train_X.loc[train_idx]\n",
    "    x_test = train_X.loc[test_idx]\n",
    "    y_train = train_y.loc[train_idx]\n",
    "    y_test = train_y.loc[test_idx]\n",
    "\n",
    "    model = modelTypes[modelType]\n",
    "\n",
    "    # Train RF model:\n",
    "    model.fit(x_train, y_train)\n",
    "\n",
    "    y_pred = model.predict(x_test)\n",
    "\n",
    "    # Coefficient of determination\n",
    "    r2 = r2_score(y_test, y_pred)\n",
    "    # Root mean squared error\n",
    "    rmsd = mean_squared_error(y_test, y_pred)**0.5\n",
    "    # Bias\n",
    "    bias = np.mean(y_pred - y_test)\n",
    "    # Standard deviation of the error of prediction\n",
    "    sdep = np.mean(((y_pred - y_test) - np.mean(y_pred - y_test))**2)**0.5\n",
    "\n",
    "    # Save running sum of results:\n",
    "    predStats['r2_sum'] += r2\n",
    "    predStats['rmsd_sum'] += rmsd\n",
    "    predStats['bias_sum'] += bias\n",
    "    predStats['sdep_sum'] += sdep\n",
    "\n",
    "    # Save individual predictions:\n",
    "\n",
    "    myPreds.loc[test_idx, 'Prediction'] = y_pred\n",
    "    myPreds.loc[test_idx, 'Fold'] = n + 1\n",
    "\n",
    "    predictionStats.loc[n, :] = [n + 1, len(test_idx), r2, rmsd, bias, sdep]\n",
    "\n",
    "  # Average results over resamples:\n",
    "  r2_av = predStats['r2_sum']/num_cv\n",
    "  rmsd_av = predStats['rmsd_sum']/num_cv\n",
    "  bias_av = predStats['bias_sum']/num_cv\n",
    "  sdep_av = predStats['sdep_sum']/num_cv\n",
    "  avg_row = pd.DataFrame([['Average', len(train_y), r2_av, rmsd_av, bias_av, sdep_av]], columns=predictionStats.columns)\n",
    "  predictionStats = pd.concat([predictionStats, avg_row], ignore_index=True)\n",
    "\n",
    "  myPreds.to_csv(predictions_filename, index=True)\n",
    "  predictionStats.to_csv(f'CV{modelType}_stats.csv', index=False)\n",
    "\n",
    "  return myPreds, predictionStats"
   ]
  },
  {
   "cell_type": "code",
   "execution_count": null,
   "metadata": {},
   "outputs": [],
   "source": [
    "def modelStats(test_y, y_pred):\n",
    "    # Coefficient of determination\n",
    "    r2 = r2_score(test_y, y_pred)\n",
    "    # Root mean squared error\n",
    "    rmsd = mean_squared_error(test_y, y_pred)**0.5\n",
    "    # Bias\n",
    "    bias = np.mean(y_pred - test_y)\n",
    "    # Standard deviation of the error of prediction\n",
    "    sdep = np.mean(((y_pred - test_y) - np.mean(y_pred - test_y))**2)**0.5\n",
    "    return r2, rmsd, bias, sdep"
   ]
  },
  {
   "cell_type": "code",
   "execution_count": null,
   "metadata": {
    "id": "_39C1Hu5EJk0"
   },
   "outputs": [],
   "source": [
    "def plotter(modelType, test_y, y_pred):\n",
    "    \n",
    "    r2, rmsd, bias, sdep = modelStats(test_y, y_pred)\n",
    "    statisticValues = f\"r2: {round(r2, 3)}\\nrmsd: {round(rmsd, 3)}\\nbias: {round(bias, 3)}\\nsdep: {round(sdep, 3)}\"\n",
    "    \n",
    "    nptest_y = test_y.to_numpy() if isinstance(test_y, pd.Series) else test_y\n",
    "    npy_pred = y_pred\n",
    "    \n",
    "    minVal = min(nptest_y.min(), npy_pred.min())\n",
    "    maxVal = max(nptest_y.max(), npy_pred.max())\n",
    "    \n",
    "    a, b = np.polyfit(test_y, y_pred, 1)\n",
    "    xvals = np.linspace(minVal - 1, maxVal + 1, 100)\n",
    "    yvals = xvals\n",
    "    \n",
    "    plt.plot(xvals, yvals, '--')\n",
    "    plt.scatter(nptest_y, npy_pred)\n",
    "    plt.plot(test_y, a*test_y+b)\n",
    "    plt.xlabel('Measured')\n",
    "    plt.ylabel('Predicted')\n",
    "    plt.xlim(minVal - 1, maxVal + 1)\n",
    "    plt.ylim(minVal - 1, maxVal + 1)\n",
    "    plt.title(f'{modelType} Model')\n",
    "    plt.text(0.01, 0.99, statisticValues, transform=plt.gca().transAxes, fontsize=12, verticalalignment='top', horizontalalignment='left')\n",
    "    plt.savefig(f'{modelType}_model.png')\n",
    "    plt.show()"
   ]
  },
  {
   "cell_type": "code",
   "execution_count": null,
   "metadata": {
    "id": "nIyTNZdN8gsV"
   },
   "outputs": [],
   "source": [
    "def plotModel(modelType, train_X, train_y, test_X, test_y):\n",
    "  model = modelTypes[modelType]\n",
    "  model.fit(train_X, train_y)\n",
    "  y_pred = model.predict(test_X)\n",
    "  plotter(modelType, test_y, y_pred)"
   ]
  },
  {
   "cell_type": "code",
   "execution_count": null,
   "metadata": {
    "id": "7Ro_dC0z-zbZ"
   },
   "outputs": [],
   "source": [
    "def metaboliteModelStuff(fileNameTrain, fileNameTest):\n",
    "  train_X, train_y, test_X, test_y = makeTrainAndTest(fileNameTrain, fileNameTest, 'pIC50')\n",
    "  myPreds, predictionStats = loopedKfoldCrossVal('RF', 10, train_X, train_y)\n",
    "  plotModel('RF', train_X, train_y, test_X, test_y)"
   ]
  }
 ],
 "metadata": {
  "colab": {
   "provenance": []
  },
  "kernelspec": {
   "display_name": "Python 3 (ipykernel)",
   "language": "python",
   "name": "python3"
  },
  "language_info": {
   "codemirror_mode": {
    "name": "ipython",
    "version": 3
   },
   "file_extension": ".py",
   "mimetype": "text/x-python",
   "name": "python",
   "nbconvert_exporter": "python",
   "pygments_lexer": "ipython3",
   "version": "3.11.7"
  }
 },
 "nbformat": 4,
 "nbformat_minor": 4
}
