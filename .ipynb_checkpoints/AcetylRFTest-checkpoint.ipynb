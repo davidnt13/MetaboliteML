{
 "cells": [
  {
   "cell_type": "code",
   "execution_count": 1,
   "id": "6d347b97-4ebb-41a5-9fb2-ec39146a0267",
   "metadata": {},
   "outputs": [],
   "source": [
    "import pandas as pd #data manipulation\n",
    "from tqdm.auto import tqdm #progress bar\n",
    "from rdkit import Chem #Chemistry\n",
    "from rdkit.Chem import Descriptors\n",
    "import numpy as np #matrix algebra\n",
    "#from lightgbm import LGBMRegressor, plot_importance #LightGBM models\n",
    "from sklearn.model_selection import train_test_split #ML trainining\n",
    "from sklearn.metrics import r2_score, mean_squared_error #ML stats\n",
    "import seaborn as sns #Plotting\n",
    "#from yellowbrick.regressor import prediction_error, ResidualsPlot"
   ]
  },
  {
   "cell_type": "code",
   "execution_count": 2,
   "id": "43ac0c44-fcbf-4cfd-bfe5-0638c842f15f",
   "metadata": {},
   "outputs": [],
   "source": [
    "dfTrain = pd.read_csv(\"training_data.csv\")\n",
    "dfTest = pd.read_csv(\"test_data.csv\")"
   ]
  },
  {
   "cell_type": "code",
   "execution_count": 3,
   "id": "01d16971-8cc1-4cea-9f19-fcac5dddf4d7",
   "metadata": {},
   "outputs": [],
   "source": [
    "smiles_stringsTrain = dfTrain['SMILES'].tolist()\n",
    "smiles_stringsTest = dfTest['SMILES'].tolist()"
   ]
  },
  {
   "cell_type": "code",
   "execution_count": 4,
   "id": "ce58c5bb-e92a-41f8-a293-a774ca36836d",
   "metadata": {},
   "outputs": [],
   "source": [
    "smilesTrain = [Chem.MolFromSmiles(mol) for mol in smiles_stringsTrain]\n",
    "smilesTest = [Chem.MolFromSmiles(mol) for mol in smiles_stringsTest]"
   ]
  },
  {
   "cell_type": "code",
   "execution_count": 5,
   "id": "59eafebb-2fec-4a12-a0f7-3cffb4eb1398",
   "metadata": {},
   "outputs": [],
   "source": [
    "descrsTrain = [Descriptors.CalcMolDescriptors(mol) for mol in smilesTrain]\n",
    "descrsTest = [Descriptors.CalcMolDescriptors(mol) for mol in smilesTest]\n",
    "df2Train = pd.DataFrame(descrsTrain)\n",
    "df2Test = pd.DataFrame(descrsTest)"
   ]
  },
  {
   "cell_type": "code",
   "execution_count": 10,
   "id": "34280ecb-f4d0-4dbb-9a79-8b94bf6e6c70",
   "metadata": {},
   "outputs": [],
   "source": [
    "train_X = df2Train.bfill()\n",
    "train_y = dfTrain.pIC50\n",
    "test_X = df2Test.bfill()\n",
    "test_y = dfTest.pIC50"
   ]
  },
  {
   "cell_type": "code",
   "execution_count": 7,
   "id": "cacd827b-7b68-452a-a36b-3d456419f801",
   "metadata": {},
   "outputs": [],
   "source": [
    "from sklearn.model_selection import ShuffleSplit\n",
    "from sklearn.preprocessing import StandardScaler\n",
    "from sklearn.ensemble import RandomForestRegressor\n",
    "from sklearn.model_selection import RandomizedSearchCV"
   ]
  },
  {
   "cell_type": "code",
   "execution_count": 9,
   "id": "5dc73395-dec2-4a50-b302-c9f70adb9dd8",
   "metadata": {},
   "outputs": [
    {
     "name": "stdout",
     "output_type": "stream",
     "text": [
      "Fitting 10 folds for each of 10 candidates, totalling 100 fits\n"
     ]
    },
    {
     "ename": "NameError",
     "evalue": "name 'text_X' is not defined",
     "output_type": "error",
     "traceback": [
      "\u001b[0;31m---------------------------------------------------------------------------\u001b[0m",
      "\u001b[0;31mNameError\u001b[0m                                 Traceback (most recent call last)",
      "Cell \u001b[0;32mIn[9], line 45\u001b[0m\n\u001b[1;32m     42\u001b[0m rf\u001b[38;5;241m.\u001b[39mfit(train_X, train_y)\n\u001b[1;32m     44\u001b[0m \u001b[38;5;66;03m# Use trained RF model to predict y data for the test set:\u001b[39;00m\n\u001b[0;32m---> 45\u001b[0m y_pred \u001b[38;5;241m=\u001b[39m rf\u001b[38;5;241m.\u001b[39mpredict(text_X)\n\u001b[1;32m     47\u001b[0m \u001b[38;5;66;03m# Assess performace of model based on predictions:\u001b[39;00m\n\u001b[1;32m     48\u001b[0m \n\u001b[1;32m     49\u001b[0m \u001b[38;5;66;03m# Coefficient of determination\u001b[39;00m\n\u001b[1;32m     50\u001b[0m r2 \u001b[38;5;241m=\u001b[39m r2_score(test_y, y_pred)\n",
      "\u001b[0;31mNameError\u001b[0m: name 'text_X' is not defined"
     ]
    }
   ],
   "source": [
    "# Initial parameters for RF hyperparameter tuning:\n",
    "\n",
    "hyper_cv = 10\n",
    "\n",
    "# Number of trees in random forest\n",
    "n_estimators = [int(x) for x in np.linspace(start = 20, stop = 300, num = 10)]\n",
    "\n",
    "# Number of features to consider at every split\n",
    "#max_features = ['auto', 'sqrt']\n",
    "\n",
    "# Maximum number of levels in tree\n",
    "max_depth = [int(x) for x in np.linspace(10, 100, num = 10)]\n",
    "max_depth.append(None)\n",
    "\n",
    "# Minimum number of samples required to split a node\n",
    "min_samples_split = [2, 5, 10]\n",
    "\n",
    "# Minimum number of samples required at each leaf node\n",
    "min_samples_leaf = [1, 2, 4]\n",
    "\n",
    "# Method of selecting samples for training each tree\n",
    "bootstrap = [True, False]\n",
    "\n",
    "# Collect all hyperparameter values:\n",
    "init_param_grid = {'n_estimators': n_estimators,\n",
    "                   'max_depth': max_depth,\n",
    "                   'min_samples_split': min_samples_split,\n",
    "                   'min_samples_leaf': min_samples_leaf,\n",
    "                   'bootstrap': bootstrap}\n",
    "\n",
    "# Set up hyperparameter tuning using a random grid search over\n",
    "# different combinations of hyperparameters:\n",
    "rf = RandomizedSearchCV(estimator = RandomForestRegressor(),\n",
    "                        param_distributions = init_param_grid,\n",
    "                        n_iter = 10,\n",
    "                        cv = hyper_cv,\n",
    "                        refit = True,\n",
    "                        verbose = 1,\n",
    "                        n_jobs = 1)\n",
    "\n",
    "# Train RF model:\n",
    "rf.fit(train_X, train_y)"
   ]
  },
  {
   "cell_type": "code",
   "execution_count": 12,
   "id": "3184b3c8-ec06-4062-914c-c02b5722ec7a",
   "metadata": {},
   "outputs": [],
   "source": [
    "\n",
    "# Use trained RF model to predict y data for the test set:\n",
    "y_pred = rf.predict(test_X)\n",
    "\n",
    "# Assess performace of model based on predictions:\n",
    "\n",
    "# Coefficient of determination\n",
    "r2 = r2_score(test_y, y_pred)\n",
    "# Root mean squared error\n",
    "rmsd = mean_squared_error(test_y, y_pred)**0.5\n",
    "# Bias\n",
    "bias = np.mean(y_pred - test_y)\n",
    "# Standard deviation of the error of prediction\n",
    "sdep = np.mean(((y_pred - test_y) - np.mean(y_pred - test_y))**2)**0.5"
   ]
  },
  {
   "cell_type": "code",
   "execution_count": 13,
   "id": "8d5cba84-e2b0-44b3-90e6-fb9f3857492e",
   "metadata": {},
   "outputs": [
    {
     "name": "stdout",
     "output_type": "stream",
     "text": [
      "0.06301706754527048\n",
      "1.1346522915630484\n",
      "0.1254118788439176\n",
      "1.1277001744231998\n"
     ]
    }
   ],
   "source": [
    "print(r2)\n",
    "print(rmsd)\n",
    "print(bias)\n",
    "print(sdep)"
   ]
  },
  {
   "cell_type": "code",
   "execution_count": null,
   "id": "509cb118-56a6-4f59-a921-4ebb4fe29ca4",
   "metadata": {},
   "outputs": [],
   "source": []
  }
 ],
 "metadata": {
  "kernelspec": {
   "display_name": "Python 3 (ipykernel)",
   "language": "python",
   "name": "python3"
  },
  "language_info": {
   "codemirror_mode": {
    "name": "ipython",
    "version": 3
   },
   "file_extension": ".py",
   "mimetype": "text/x-python",
   "name": "python",
   "nbconvert_exporter": "python",
   "pygments_lexer": "ipython3",
   "version": "3.11.7"
  }
 },
 "nbformat": 4,
 "nbformat_minor": 5
}
